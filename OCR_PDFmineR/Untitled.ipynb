{
 "cells": [
  {
   "cell_type": "code",
   "execution_count": 5,
   "metadata": {},
   "outputs": [],
   "source": [
    "from pdfminer.pdfinterp import PDFResourceManager, PDFPageInterpreter\n",
    "from pdfminer.converter import TextConverter\n",
    "from pdfminer.layout import LAParams\n",
    "from pdfminer.pdfpage import PDFPage\n",
    "from io import StringIO\n",
    "\n"
   ]
  },
  {
   "cell_type": "code",
   "execution_count": 6,
   "metadata": {},
   "outputs": [],
   "source": [
    "def convert_pdf_to_txt(path):\n",
    "    rsrcmgr = PDFResourceManager()\n",
    "    retstr = StringIO()\n",
    "    codec = 'utf-8'\n",
    "    laparams = LAParams()\n",
    "    device = TextConverter(rsrcmgr, retstr, codec=codec, laparams=laparams)\n",
    "    fp = open(path, 'rb')\n",
    "    interpreter = PDFPageInterpreter(rsrcmgr, device)\n",
    "    password = \"\"\n",
    "    maxpages = 0\n",
    "    caching = True\n",
    "    pagenos=set()\n",
    "\n",
    "    for page in PDFPage.get_pages(fp, pagenos, maxpages=maxpages, password=password,caching=caching, check_extractable=True):\n",
    "        interpreter.process_page(page)\n",
    "\n",
    "    #text = retstr.getvalue()\n",
    "\n",
    "    fp.close()\n",
    "    device.close()\n",
    "    text = retstr.getvalue()\n",
    "    retstr.close()\n",
    "    return text"
   ]
  },
  {
   "cell_type": "code",
   "execution_count": 10,
   "metadata": {},
   "outputs": [
    {
     "data": {
      "text/plain": [
       "'.\\n\\n\\'\\n\\nRéchnungsanschrift·\\n310960\\n\\nRobert Bosch GmbH\\nC/CGA-GAA\\nPostfach 16 25\\n39006 Magedeburg\\nDeutschland\\n\\nBeghelli PRÄZISA GmbH - Lanterstraße 34 - 46539 Dinslaken\\n\\nRECHNUNGSNUMMER 19008551 UC Datum 28/11/2019\\n\\nSeite:\\n\\n1\\n\\nKunden-Nr\\n\\n310960\\n\\n-.=--\\nBeglellil\\nPRA\\n\\n310960\\n\\nRobert Bosch GmbH\\nC/CGA-GAA\\nPostfach 16 25\\n39006Magedeburg\\nDeutschland\\n\\n--\\n\\nAuftraggeber\\n310960\\n\\nRobert Bosch GmbH\\nC/CGA-GAA\\nPostfach 16 25\\n39006 Magedeburg\\nDeutschland\\n\\nUmsatzsteuer-ID-Nr.\\n\\nArtikelnr\\n\\n4000 4000 939555\\n\\nUmsatzsteuer-ID-Nr.\\nRechnungsdatum\\nFällig am\\nZahlungsmittel\\nZahlungsbedingung\\nLieferbedingung\\nWährung\\n\\n28/11/2019\\n28/12/2019\\nAufRechnung\\n30 Tage netto\\nEW Ab Werk\\nEUR\\n\\nLieferanschrift\\n322974\\n\\nRobert Bosch GmbH\\nC/AGA - Abladestelle BE108EG\\nHr. Filipchuk (C/AGA)\\nBismarckstr. 71\\n10627 Berlin\\nDeutschland\\n\\nBezeichnung\\n\\nWarenklasse\\n\\nMenge\\n\\nEinzelpreis\\n\\nGesamtpreis\\n\\nMwSt\\n\\nEinmalige Wartung\\n\\n1,00 NR\\n\\n99933\\n\\n95,00\\n\\n95,00\\n\\n19,0 %\\n\\nAuftragNr.\\nDEAS018\\n\\n19006153\\n\\nSR -\\n\\n30/05/2019\\n\\nIhre Beste.\\n\\nWartung NZBVE/A-US\\n\\nAuflistung der AnlagenWartung der Notbeleuchtungsanlage\\nAnlagen Nr. Standort Bezeichnung Betriebsdauer\\n01ZE360 UG NZBVE-Z 230/7,2/120 3h\\n01ZE246 UG NZBVE-Z 230/7,2/120 lh\\n3.0G NZBVE-US lh\\nUG NV1 NGBVA 24/036 lh\\n92279 UG NV2 NGBVA 24/036 lh\\n92348 EG NV3 NGBVA 24/036 lh\\n92354 1.OG NV4 NGBVA 24/036 lh\\n92353 3.0G NV5 NGBVA 24/036 lh\\n\\nOrdemingCenter DE Abteilung: GS/PFP-EUI 1 / Tel.: 0391 5908182 / Fax: 0711 81155894 / E-Mail: OC-DE@bosch.com\\nFrau Filipchuk/ Tel.: 030 32788 205 / Email: Valeriy.Filipchuk@de.bosch.com\\n\\nTermin: 27.11.2019\\nTechniker: S. Thormeier\\n\\nDEAS004\\n\\nWartung NGBVE/A, Sicuro lh\\n\\n99934\\n\\n1,00 NR\\n\\n350,00\\n\\n350,00\\n\\n19,0 %\\n\\nGeschäftsführer / General Manager\\nThomas Buhren, Graziano Beghelli\\nHRB 22348\\nAmtsgericht Duisburg\\n\\nAnschrift / Address\\nLanterstraße 34 - D-46539 Dinslaken\\nTel. +49 2064 9701-0 Fax +49 2064 9701-99\\nkontakt@beghelli.de - www.beghelli.de\\n\\nBankverbindung/ Bank Information\\nName Bayer Hypo- und Vereinsbank\\nBLZ\\nKto 364 063 709\\nIBAN DE56 3022 0190 0364 0637 09\\nBIC\\n\\nHYVEDEMM414\\n\\n302 201 90\\n\\nSteuemummer / Tax Number\\n101/5701/1496\\nUST-ID / VAT-ID\\nDEI 19\"062102\\n\\n\\x0cRechnungsanschrift\\n310960\\n\\nRobert Bosch GmbH\\nC/CGA-GAA\\nPostfach 16 25\\n39006 Magedeburg\\nDeutschland\\n\\nBeghelli PRÄZISA GmbH - Lanterstraße 34 - 46539 Dinslaken\\n\\nRECHNUNGSNUMMER 19008551 UC Datum 28/11/2019\\n\\nSeite:\\n\\n2\\n\\nKunden-Nr\\n\\n310960\\n\\n¡Be.g.hellil\\nI:)RA SA\\n\\n310960\\n\\nRobert Bosch GmbH\\nC/CGA-GAA\\nPostfach 16 25\\n39006 Magedeburg\\nDeutschland\\n\\n--\\n\\nAuftraggeber\\n310960\\n\\nRobert Bosch GmbH\\nC/CGA-GAA\\nPostfach 16 25\\n39006 Magedeburg\\nDeutschland\\n\\nUmsatzsteuer-ID-Nr.\\n\\nUmsatzsteuer-ID-Nr.\\nRechnungsdatum\\nFällig am\\nZahlungsmittel\\nZahlungsbedingung\\nLieferbedingung\\nWährung\\n\\n28/11/2019\\n28/12/2019\\nAuf Rechnung\\n30 Tage netto\\nEW Ab Werk\\nEUR\\n\\nLieferanschrift\\n322974\\n\\nRobert Bosch GmbH\\nC/AGA - Abladestelle BE108EG\\nHr. Filipchuk (C/AGA)\\nBismarckstr. 71\\n10627 Berlin\\nDeutschland\\n\\nArtikclnr\\n\\nDEAS004\\n\\nDEAS004\\n\\nDEAS004\\n\\nDEAS004\\n\\nDEAS016\\n\\nDEAS003\\n\\nBezeichnung\\n\\nWarenklasse\\n\\nMenge\\n\\nEinzelpreis\\n\\nGesamtpreis\\n\\nMwSt\\n\\nWartung NGBVE/A, Sicuro lh\\n\\nWartung NGBVE/A, Sicuro l h\\n\\nWartung NGBVE/A, Sicuro l h\\n\\nWartung NGBVE/A, Sicuro lh\\n\\nWartung NZBVE/A 3h\\n\\nWartung NZBVE/A lh\\n\\n99934\\n\\n99934\\n\\n99934\\n\\n99934\\n\\n99931\\n\\n99930\\n\\n1,00 NR\\n\\n1,00 NR\\n\\n1,00 NR\\n\\n1,00 NR\\n\\n1,00 NR\\n\\n1,00 NR\\n\\n350,00\\n\\n350,00\\n\\n19,0 %\\n\\n350,00\\n\\n350,00\\n\\n19,0 %\\n\\n350,00\\n\\n350,00\\n\\n19,0 %\\n\\n350,00\\n\\n350,00\\n\\n19,0 %\\n\\n550,00\\n\\n550,00\\n\\n19,0 %\\n\\n277,85\\n\\n277,85\\n\\n19,0 %\\n\\nEORI: DE3147061\\nDas Lieferscheindatum entspricht dem Leistungsdatum\\n\\nNettowarenwert\\nEUR\\n\\n2.672,85\\n\\nMwSt. %\\n\\n19,0 %\\n\\nMehrwertsteuer\\n507,84\\n\\nNettowarenwe\\n\\n2.672,85 EUR\\n\\nGeschäftsführer / General Manager\\nThomas Bühren, Graziano Beghelli\\nHRB 22348\\nAmtsgericht Duisburg\\n\\nAnschrift / Address\\nLanterstraße 34 - D-46539 Dinslaken\\nTel. +49 2064 9701-0 Fax +49 2064 9701-99\\nkontakt@beghelli..de - www..beghelli..de\\n\\nBankverbindung/ Bank Information\\nName Bayer Hypo- und Vereinsbank\\nBLZ\\nKto 364 063 709\\nIBAN DE56 3022 0190 0364 0637 09\\nBIC\\n\\nHYVEDEMM414\\n\\n302 201 90\\n\\nSteuemummer / Tax Number\\n101/5701/1496\\nUST-ID / VAT-ID\\nDEl 19062102\\n\\n\\x0c-■ Rechnungsanschrift\\n\\n310960\\n\\nRobert Bosch GmbH\\nC/CGA-GAA\\nPostfach 16 25\\n39006 Magedeburg\\nDeutschland\\n\\nBeghelli PRÄZISA GmbH - Lanterstraße 34 - 46539 Dinslaken\\n\\nRECHNUNGSNUMMER 19008551 UC Datum 28/11/2019\\n\\nSeite:\\n\\n3\\n\\nKunden-Nr\\n\\n310960\\n\\n-..\\nlBeghellil\\nPRA\\nSA\\n\\n310960\\n\\nRobert Bosch GmbH\\nC/CGA-GAA\\nPostfach 16 25\\n39006 Magedeburg\\nDeutschland\\n\\n--\\n\\nAuftraggeber\\n310960\\n\\nRobert Bosch GmbH\\nC/CGA-GAA\\nPostfach 16 25\\n39006 Magedeburg\\nDeutschland\\n\\nUmsatzsteuer-ID-Nr.\\n\\nArtikelnr\\n\\nUmsatzsteuer-ID-Nr.\\nRcchnungsdatum\\nFällig am\\nZahlungsmittel\\nZahlungsbedingung\\nLieferbedingung\\nWährung\\n\\n28/11/2019\\n28/12/2019\\nAufRechnung\\n30 Tage netto\\nEW Ab Werk\\nEUR\\n\\nLieferanschrift\\n322974\\n\\nRobert Bosch GmbH\\nC/AGA - Abladestelle BE 108EG\\nHr. Filipchuk (C/AGA)\\nBismarckstr. 71\\n10627 Berlin\\nDeutschland\\n\\nBezeichnung\\n\\nWarenklasse\\n\\n•\\n\\nMenge\\n\\nEinzelpreis\\n\\nGesamtpreis\\n\\nMwSt\\n\\nGesamtsumme\\n\\n3.180,69 EUR\\n\\nGeschäftsführer / General Manager\\nThomas Buhren, Graziano Beghelli\\nHRB 22348\\nAmtsgericht Duisburg\\n\\nAnschrift / Address\\n-\\nLanterstraße 34\\nTel. +49 2064 9701-0 Fax +49 2064 9701-99\\nkontakt@beghelli.de - www.beghelli.de\\n\\nD-46539 Dinslaken\\n\\nBankverbindung/ Bank Information\\nName\\nBLZ\\nKto 364 063 709\\nIBAN DE56 3022 0190 0364 0637 09\\nBIC\\n\\nBayer Hypo- und Vereinsbank\\n302 201 90\\n\\nHYVEDEMM414\\n\\n/ Tax Number\\n\\nSteuemummer\\n1 01/5701/1496\\nUST-ID / VAT-ID\\nDE119062102\\n\\n\\x0cr\\n\\nIIIIIIIIIIIIIIII\\n\\n\\'1\\n\\nI\\n\\nKred itoren-Workflow\\n\\nTrennblatt Anlagen\\n\\nVersion 1.0- Patchcode I\\n\\n1\\n\\n\\x0c\\x0c\\x0c\\x0c\\x0c\\x0c\\x0c\\x0c'"
      ]
     },
     "execution_count": 10,
     "metadata": {},
     "output_type": "execute_result"
    }
   ],
   "source": [
    "convert_pdf_to_txt(r'C:\\Users\\jagadesh\\Jupyter Projects\\OCR\\fwusecaseextractnamesfromtext\\2.pdf')"
   ]
  },
  {
   "cell_type": "code",
   "execution_count": 9,
   "metadata": {},
   "outputs": [
    {
     "ename": "SyntaxError",
     "evalue": "EOL while scanning string literal (<ipython-input-9-e37de949e941>, line 1)",
     "output_type": "error",
     "traceback": [
      "\u001b[1;36m  File \u001b[1;32m\"<ipython-input-9-e37de949e941>\"\u001b[1;36m, line \u001b[1;32m1\u001b[0m\n\u001b[1;33m    fp = open(r'C:\\Users\\jagadesh\\Jupyter Projects\\OCR\\fwusecaseextractnamesfromtext/2.pdf, 'rb')\u001b[0m\n\u001b[1;37m                                                                                                 ^\u001b[0m\n\u001b[1;31mSyntaxError\u001b[0m\u001b[1;31m:\u001b[0m EOL while scanning string literal\n"
     ]
    }
   ],
   "source": [
    "fp = open(r'C:\\Users\\jagadesh\\Jupyter Projects\\OCR\\fwusecaseextractnamesfromtext/2.pdf, 'rb')"
   ]
  },
  {
   "cell_type": "code",
   "execution_count": null,
   "metadata": {},
   "outputs": [],
   "source": []
  }
 ],
 "metadata": {
  "kernelspec": {
   "display_name": "Python 3",
   "language": "python",
   "name": "python3"
  },
  "language_info": {
   "codemirror_mode": {
    "name": "ipython",
    "version": 3
   },
   "file_extension": ".py",
   "mimetype": "text/x-python",
   "name": "python",
   "nbconvert_exporter": "python",
   "pygments_lexer": "ipython3",
   "version": "3.7.3"
  }
 },
 "nbformat": 4,
 "nbformat_minor": 2
}
