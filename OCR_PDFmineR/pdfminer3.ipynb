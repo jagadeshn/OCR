{
 "cells": [
  {
   "cell_type": "code",
   "execution_count": 3,
   "metadata": {},
   "outputs": [],
   "source": [
    "from pdfminer3.layout import LAParams, LTTextBox\n",
    "from pdfminer3.pdfpage import PDFPage\n",
    "from pdfminer3.pdfinterp import PDFResourceManager\n",
    "from pdfminer3.pdfinterp import PDFPageInterpreter\n",
    "from pdfminer3.converter import PDFPageAggregator\n",
    "from pdfminer3.converter import TextConverter\n",
    "import io\n",
    "\n"
   ]
  },
  {
   "cell_type": "code",
   "execution_count": 44,
   "metadata": {},
   "outputs": [
    {
     "name": "stdout",
     "output_type": "stream",
     "text": [
      "RechnungFERCHAUGmbH·Postfach100352·51603GummersbachBelegnummerBelegdatumSeite904818631/131.10.2019FirmaRobertBoschGmbHKundennr.ErstelldatumIhreUStID-Nr.HRS21-DEDE8111281351329108.11.2019Postfach1461Kontraktnr.39004Magdeburg40072172DEUTSCHLANDFürRückfragenwendenSiesichbittean:NiederlassungReutlingenFon+49712136405-0Fax+49712136405-10E-Mailreutlingen@ferchau.comBestellnummerAÜ-DambacherLeistungszeitraum01.09.2019bis27.09.2019ZahlungsbedingungenBiszum07.01.2020ohneAbzugAbteilung:M/PPS-PE1Kostenstelle:499591Pos.MaterialMengeEinzelpreisPreis-GesamtwertBeschreibungeinheitEUR0010ProjektstundenachAufwand11,520H54,43EUR/1H627,03PRSTSummePositionenEUR627,03Ausgangssteuer19,00%EUR119,14EndbetragEUR746,17FERCHAUGmbHZentraleBankverbindungwww.ferchau.comSteinmüllerallee2SparkasseGummersbach-Bergneustadtinfo@ferchau.com51643GummersbachIBAN:DE16384500000000199513USt-IdNr.:DE122537878BIC:WELADED1GMBDeutscheBankGummersbachIBAN:DE11384700910012111100BIC:DEUTDEDW384\f",
      "\f",
      "\f",
      "From:noreply.ferchau@crossnet.crossinx.comSent:November25,2019To:einvoice_49904990@de.bosch.comCC:Subject:ElektronischeRechnungderFERCHAUGmbH/Dokumentennummer90481863SehrgeehrteDamenundHerren,imAnhangfindenSieeineRechnungderFERCHAUGmbH.BitteöffnenSiedenAnhangnur,wennderAbsendernoreply.ferchau@crossnet.crossinx.comist.BeiFragenoderUnklarheitenantwortenSiebittenichtaufdieseE-Mail.BeiRückfragenwendenSiesichbitteandieaufderRechnunggenanntenKontakte.MitfreundlichenGrüßenFERCHAUGmbH\f",
      "\n"
     ]
    }
   ],
   "source": [
    "resource_manager = PDFResourceManager()\n",
    "fake_file_handle = io.StringIO()\n",
    "converter = TextConverter(resource_manager, fake_file_handle)\n",
    "page_interpreter = PDFPageInterpreter(resource_manager, converter)\n",
    "\n",
    "from pdfminer3.layout import LAParams\n",
    "converter = TextConverter(resource_manager, fake_file_handle, laparams=LAParams)\n",
    "#(line_overlap=0.5, char_margin=2.0, line_margin=0.5, word_margin=2, boxes_flow=0.5, detect_vertical=False, all_texts=False)\n",
    "with open(r'C:\\Users\\jagadesh\\Jupyter Projects\\OCR\\fwusecaseextractnamesfromtext/3.pdf', 'rb') as fh:\n",
    "\n",
    "    for page in PDFPage.get_pages(fh,\n",
    "                                  caching=True,\n",
    "                                  check_extractable=True):\n",
    "        page_interpreter.process_page(page)\n",
    "\n",
    "    text = fake_file_handle.getvalue()\n",
    "\n",
    "# close open handles\n",
    "converter.close()\n",
    "fake_file_handle.close()\n",
    "\n",
    "print(text)"
   ]
  },
  {
   "cell_type": "code",
   "execution_count": 40,
   "metadata": {},
   "outputs": [],
   "source": [
    "text_file = open(\"Output.txt\",\"w\")"
   ]
  },
  {
   "cell_type": "code",
   "execution_count": null,
   "metadata": {},
   "outputs": [],
   "source": [
    "\n"
   ]
  },
  {
   "cell_type": "code",
   "execution_count": 41,
   "metadata": {},
   "outputs": [],
   "source": [
    "with open(\"Output.txt\", \"w\") as text_file:\n",
    "    print(text,file=text_file)\n",
    "    "
   ]
  },
  {
   "cell_type": "code",
   "execution_count": 11,
   "metadata": {},
   "outputs": [
    {
     "data": {
      "text/plain": [
       "str"
      ]
     },
     "execution_count": 11,
     "metadata": {},
     "output_type": "execute_result"
    }
   ],
   "source": [
    "type(text)"
   ]
  },
  {
   "cell_type": "code",
   "execution_count": 22,
   "metadata": {},
   "outputs": [
    {
     "name": "stdout",
     "output_type": "stream",
     "text": [
      ".Réchnungsanschrift·RECHNUNGSNUMMER19008551UCDatum28/11/2019Seite:1 310960RobertBoschGmbHKunden-Nr310960C/CGA-GAAPostfach1625Beglellil39006MagedeburgDeutschland-.=--PRABeghelliPRÄZISAGmbH-Lanterstraße34-46539Dinslaken310960RobertBoschGmbHUmsatzsteuer-ID-Nr.C/CGA-GAARechnungsdatum28/11/2019Postfach1625Fälligam28/12/201939006MagedeburgZahlungsmittelAufRechnungDeutschlandZahlungsbedingung30TagenettoLieferbedingungEWAbWerkWährungEUR40004000939555AuftraggeberLieferanschrift310960RobertBoschGmbHRobertBoschGmbH--322974C/CGA-GAAC/AGA-AbladestelleBE108EGPostfach1625Hr.Filipchuk(C/AGA)39006MagedeburgBismarckstr.71Deutschland10627BerlinDeutschlandUmsatzsteuer-ID-Nr.ArtikelnrBezeichnungWarenklasseMengeEinzelpreisGesamtpreisMwStAuftragNr.19006153SR-30/05/2019IhreBeste.EinmaligeWartungDEAS018WartungNZBVE/A-US1,00NR95,0095,0019,0%99933AuflistungderAnlagenWartungderNotbeleuchtungsanlageAnlagenNr.StandortBezeichnungBetriebsdauer01ZE360UGNZBVE-Z230/7,2/1203h01ZE246UGNZBVE-Z230/7,2/120lh3.0GNZBVE-USlhUGNV1NGBVA24/036lh92279UGNV2NGBVA24/036lh92348EGNV3NGBVA24/036lh923541.OGNV4NGBVA24/036lh923533.0GNV5NGBVA24/036lhOrdemingCenterDEAbteilung:GS/PFP-EUI1/Tel.:03915908182/Fax:071181155894/E-Mail:OC-DE@bosch.comFrauFilipchuk/Tel.:03032788205/Email:Valeriy.Filipchuk@de.bosch.comTermin:27.11.2019Techniker:S.ThormeierDEAS004WartungNGBVE/A,Sicurolh1,00NR350,00350,0019,0%99934Geschäftsführer/GeneralManagerAnschrift/AddressBankverbindung/BankInformationSteuemummer/TaxNumberThomasBuhren,GrazianoBeghelliLanterstraße34-D-46539DinslakenNameBayerHypo-undVereinsbank101/5701/1496HRB22348Tel.+4920649701-0Fax+4920649701-99BLZ30220190Kto364063709UST-ID/VAT-IDAmtsgerichtDuisburgkontakt@beghelli.de-www.beghelli.deIBANDE56302201900364063709DEI19\"062102BICHYVEDEMM414\f",
      "RechnungsanschriftRECHNUNGSNUMMER19008551UCDatum28/11/2019Seite:2310960RobertBoschGmbHKunden-Nr310960C/CGA-GAAPostfach1625¡Be.g.hellil39006MagedeburgDeutschlandI:)RASABeghelliPRÄZISAGmbH-Lanterstraße34-46539Dinslaken310960RobertBoschGmbHUmsatzsteuer-ID-Nr.C/CGA-GAARechnungsdatum28/11/2019Postfach1625Fälligam28/12/201939006MagedeburgZahlungsmittelAufRechnungDeutschlandZahlungsbedingung30TagenettoLieferbedingungEWAbWerkWährungEURAuftraggeberLieferanschrift310960RobertBoschGmbHRobertBoschGmbH--322974C/CGA-GAAC/AGA-AbladestelleBE108EGPostfach1625Hr.Filipchuk(C/AGA)39006MagedeburgBismarckstr.71Deutschland10627BerlinDeutschlandUmsatzsteuer-ID-Nr.ArtikclnrBezeichnungWarenklasseMengeEinzelpreisGesamtpreisMwStDEAS004WartungNGBVE/A,Sicurolh1,00NR350,00350,0019,0%99934DEAS004WartungNGBVE/A,Sicurolh1,00NR350,00350,0019,0%99934DEAS004WartungNGBVE/A,Sicurolh1,00NR350,00350,0019,0%99934DEAS004WartungNGBVE/A,Sicurolh1,00NR350,00350,0019,0%99934DEAS016WartungNZBVE/A3h1,00NR550,00550,0019,0%99931DEAS003WartungNZBVE/Alh1,00NR277,85277,8519,0%99930EORI:DE3147061DasLieferscheindatumentsprichtdemLeistungsdatumNettowarenwe2.672,85EURNettowarenwertMwSt.%MehrwertsteuerEUR2.672,8519,0%507,84Geschäftsführer/GeneralManagerAnschrift/AddressBankverbindung/BankInformationSteuemummer/TaxNumberThomasBühren,GrazianoBeghelliLanterstraße34-D-46539DinslakenNameBayerHypo-undVereinsbank101/5701/1496HRB22348Tel.+4920649701-0Fax+4920649701-99BLZ30220190Kto364063709UST-ID/VAT-IDAmtsgerichtDuisburgkontakt@beghelli..de-www..beghelli..deIBANDE56302201900364063709DEl19062102BICHYVEDEMM414\f",
      "-■RechnungsanschriftRECHNUNGSNUMMER19008551UCDatum28/11/2019Seite:3310960RobertBoschGmbHKunden-Nr310960C/CGA-GAAPostfach162539006MagedeburglBeghellilDeutschland-..BeghelliPRÄZISAGmbH-Lanterstraße34-46539DinslakenPRASA310960RobertBoschGmbHUmsatzsteuer-ID-Nr.C/CGA-GAARcchnungsdatum28/11/2019Postfach1625Fälligam28/12/201939006MagedeburgZahlungsmittelAufRechnungDeutschlandZahlungsbedingung30TagenettoLieferbedingungEWAbWerkWährungEURAuftraggeberLieferanschrift310960322974--RobertBoschGmbHRobertBoschGmbHC/CGA-GAAC/AGA-AbladestelleBE108EGPostfach1625Hr.Filipchuk(C/AGA)39006MagedeburgBismarckstr.71Deutschland10627BerlinDeutschlandUmsatzsteuer-ID-Nr.ArtikelnrBezeichnungWarenklasseMengeEinzelpreisGesamtpreisMwSt•Gesamtsumme3.180,69EURGeschäftsführer/GeneralManagerAnschrift/AddressBankverbindung/BankInformationSteuemummerThomasBuhren,GrazianoBeghelliLanterstraße34D-46539DinslakenNameBayerHypo-undVereinsbank/TaxNumber-101/5701/1496HRB22348Tel.+4920649701-0Fax+4920649701-99BLZ30220190Kto364063709UST-ID/VAT-IDAmtsgerichtDuisburgkontakt@beghelli.de-www.beghelli.deIBANDE56302201900364063709DE119062102BICHYVEDEMM414\f",
      "rIIIIIIIIIIIIIIII 1IKreditoren-WorkflowTrennblattAnlagenVersion1.0-PatchcodeI1\n"
     ]
    }
   ],
   "source": [
    "print(r'.Réchnungsanschrift·RECHNUNGSNUMMER19008551UCDatum28/11/2019Seite:1 310960RobertBoschGmbHKunden-Nr310960C/CGA-GAAPostfach1625Beglellil39006MagedeburgDeutschland-.=--PRABeghelliPRÄZISAGmbH-Lanterstraße34-46539Dinslaken310960RobertBoschGmbHUmsatzsteuer-ID-Nr.C/CGA-GAARechnungsdatum28/11/2019Postfach1625Fälligam28/12/201939006MagedeburgZahlungsmittelAufRechnungDeutschlandZahlungsbedingung30TagenettoLieferbedingungEWAbWerkWährungEUR40004000939555AuftraggeberLieferanschrift310960RobertBoschGmbHRobertBoschGmbH--322974C/CGA-GAAC/AGA-AbladestelleBE108EGPostfach1625Hr.Filipchuk(C/AGA)39006MagedeburgBismarckstr.71Deutschland10627BerlinDeutschlandUmsatzsteuer-ID-Nr.ArtikelnrBezeichnungWarenklasseMengeEinzelpreisGesamtpreisMwStAuftragNr.19006153SR-30/05/2019IhreBeste.EinmaligeWartungDEAS018WartungNZBVE/A-US1,00NR95,0095,0019,0%99933AuflistungderAnlagenWartungderNotbeleuchtungsanlageAnlagenNr.StandortBezeichnungBetriebsdauer01ZE360UGNZBVE-Z230/7,2/1203h01ZE246UGNZBVE-Z230/7,2/120lh3.0GNZBVE-USlhUGNV1NGBVA24/036lh92279UGNV2NGBVA24/036lh92348EGNV3NGBVA24/036lh923541.OGNV4NGBVA24/036lh923533.0GNV5NGBVA24/036lhOrdemingCenterDEAbteilung:GS/PFP-EUI1/Tel.:03915908182/Fax:071181155894/E-Mail:OC-DE@bosch.comFrauFilipchuk/Tel.:03032788205/Email:Valeriy.Filipchuk@de.bosch.comTermin:27.11.2019Techniker:S.ThormeierDEAS004WartungNGBVE/A,Sicurolh1,00NR350,00350,0019,0%99934Geschäftsführer/GeneralManagerAnschrift/AddressBankverbindung/BankInformationSteuemummer/TaxNumberThomasBuhren,GrazianoBeghelliLanterstraße34-D-46539DinslakenNameBayerHypo-undVereinsbank101/5701/1496HRB22348Tel.+4920649701-0Fax+4920649701-99BLZ30220190Kto364063709UST-ID/VAT-IDAmtsgerichtDuisburgkontakt@beghelli.de-www.beghelli.deIBANDE56302201900364063709DEI19\"062102BICHYVEDEMM414\f",
    "RechnungsanschriftRECHNUNGSNUMMER19008551UCDatum28/11/2019Seite:2310960RobertBoschGmbHKunden-Nr310960C/CGA-GAAPostfach1625¡Be.g.hellil39006MagedeburgDeutschlandI:)RASABeghelliPRÄZISAGmbH-Lanterstraße34-46539Dinslaken310960RobertBoschGmbHUmsatzsteuer-ID-Nr.C/CGA-GAARechnungsdatum28/11/2019Postfach1625Fälligam28/12/201939006MagedeburgZahlungsmittelAufRechnungDeutschlandZahlungsbedingung30TagenettoLieferbedingungEWAbWerkWährungEURAuftraggeberLieferanschrift310960RobertBoschGmbHRobertBoschGmbH--322974C/CGA-GAAC/AGA-AbladestelleBE108EGPostfach1625Hr.Filipchuk(C/AGA)39006MagedeburgBismarckstr.71Deutschland10627BerlinDeutschlandUmsatzsteuer-ID-Nr.ArtikclnrBezeichnungWarenklasseMengeEinzelpreisGesamtpreisMwStDEAS004WartungNGBVE/A,Sicurolh1,00NR350,00350,0019,0%99934DEAS004WartungNGBVE/A,Sicurolh1,00NR350,00350,0019,0%99934DEAS004WartungNGBVE/A,Sicurolh1,00NR350,00350,0019,0%99934DEAS004WartungNGBVE/A,Sicurolh1,00NR350,00350,0019,0%99934DEAS016WartungNZBVE/A3h1,00NR550,00550,0019,0%99931DEAS003WartungNZBVE/Alh1,00NR277,85277,8519,0%99930EORI:DE3147061DasLieferscheindatumentsprichtdemLeistungsdatumNettowarenwe2.672,85EURNettowarenwertMwSt.%MehrwertsteuerEUR2.672,8519,0%507,84Geschäftsführer/GeneralManagerAnschrift/AddressBankverbindung/BankInformationSteuemummer/TaxNumberThomasBühren,GrazianoBeghelliLanterstraße34-D-46539DinslakenNameBayerHypo-undVereinsbank101/5701/1496HRB22348Tel.+4920649701-0Fax+4920649701-99BLZ30220190Kto364063709UST-ID/VAT-IDAmtsgerichtDuisburgkontakt@beghelli..de-www..beghelli..deIBANDE56302201900364063709DEl19062102BICHYVEDEMM414\f",
    "-■RechnungsanschriftRECHNUNGSNUMMER19008551UCDatum28/11/2019Seite:3310960RobertBoschGmbHKunden-Nr310960C/CGA-GAAPostfach162539006MagedeburglBeghellilDeutschland-..BeghelliPRÄZISAGmbH-Lanterstraße34-46539DinslakenPRASA310960RobertBoschGmbHUmsatzsteuer-ID-Nr.C/CGA-GAARcchnungsdatum28/11/2019Postfach1625Fälligam28/12/201939006MagedeburgZahlungsmittelAufRechnungDeutschlandZahlungsbedingung30TagenettoLieferbedingungEWAbWerkWährungEURAuftraggeberLieferanschrift310960322974--RobertBoschGmbHRobertBoschGmbHC/CGA-GAAC/AGA-AbladestelleBE108EGPostfach1625Hr.Filipchuk(C/AGA)39006MagedeburgBismarckstr.71Deutschland10627BerlinDeutschlandUmsatzsteuer-ID-Nr.ArtikelnrBezeichnungWarenklasseMengeEinzelpreisGesamtpreisMwSt•Gesamtsumme3.180,69EURGeschäftsführer/GeneralManagerAnschrift/AddressBankverbindung/BankInformationSteuemummerThomasBuhren,GrazianoBeghelliLanterstraße34D-46539DinslakenNameBayerHypo-undVereinsbank/TaxNumber-101/5701/1496HRB22348Tel.+4920649701-0Fax+4920649701-99BLZ30220190Kto364063709UST-ID/VAT-IDAmtsgerichtDuisburgkontakt@beghelli.de-www.beghelli.deIBANDE56302201900364063709DE119062102BICHYVEDEMM414\f",
    "rIIIIIIIIIIIIIIII 1IKreditoren-WorkflowTrennblattAnlagenVersion1.0-PatchcodeI1')"
   ]
  },
  {
   "cell_type": "code",
   "execution_count": null,
   "metadata": {},
   "outputs": [],
   "source": []
  }
 ],
 "metadata": {
  "kernelspec": {
   "display_name": "Python 3",
   "language": "python",
   "name": "python3"
  },
  "language_info": {
   "codemirror_mode": {
    "name": "ipython",
    "version": 3
   },
   "file_extension": ".py",
   "mimetype": "text/x-python",
   "name": "python",
   "nbconvert_exporter": "python",
   "pygments_lexer": "ipython3",
   "version": "3.7.3"
  }
 },
 "nbformat": 4,
 "nbformat_minor": 2
}
