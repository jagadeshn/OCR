{
 "cells": [
  {
   "cell_type": "code",
   "execution_count": 1,
   "metadata": {},
   "outputs": [],
   "source": [
    "from pdfminer3.layout import LAParams, LTTextBox\n",
    "from pdfminer3.pdfpage import PDFPage\n",
    "from pdfminer3.pdfinterp import PDFResourceManager\n",
    "from pdfminer3.pdfinterp import PDFPageInterpreter\n",
    "from pdfminer3.converter import PDFPageAggregator\n",
    "from pdfminer3.converter import TextConverter\n",
    "import io\n",
    "\n"
   ]
  },
  {
   "cell_type": "code",
   "execution_count": 13,
   "metadata": {},
   "outputs": [
    {
     "name": "stdout",
     "output_type": "stream",
     "text": [
      ".Réchnungsanschrift·RECHNUNGSNUMMER19008551UCDatum28/11/2019Seite:1'310960RobertBoschGmbHKunden-Nr310960C/CGA-GAAPostfach1625Beglellil39006MagedeburgDeutschland-.=--PRABeghelliPRÄZISAGmbH-Lanterstraße34-46539Dinslaken310960RobertBoschGmbHUmsatzsteuer-ID-Nr.C/CGA-GAARechnungsdatum28/11/2019Postfach1625Fälligam28/12/201939006MagedeburgZahlungsmittelAufRechnungDeutschlandZahlungsbedingung30TagenettoLieferbedingungEWAbWerkWährungEUR40004000939555AuftraggeberLieferanschrift310960RobertBoschGmbHRobertBoschGmbH--322974C/CGA-GAAC/AGA-AbladestelleBE108EGPostfach1625Hr.Filipchuk(C/AGA)39006MagedeburgBismarckstr.71Deutschland10627BerlinDeutschlandUmsatzsteuer-ID-Nr.ArtikelnrBezeichnungWarenklasseMengeEinzelpreisGesamtpreisMwStAuftragNr.19006153SR-30/05/2019IhreBeste.EinmaligeWartungDEAS018WartungNZBVE/A-US1,00NR95,0095,0019,0%99933AuflistungderAnlagenWartungderNotbeleuchtungsanlageAnlagenNr.StandortBezeichnungBetriebsdauer01ZE360UGNZBVE-Z230/7,2/1203h01ZE246UGNZBVE-Z230/7,2/120lh3.0GNZBVE-USlhUGNV1NGBVA24/036lh92279UGNV2NGBVA24/036lh92348EGNV3NGBVA24/036lh923541.OGNV4NGBVA24/036lh923533.0GNV5NGBVA24/036lhOrdemingCenterDEAbteilung:GS/PFP-EUI1/Tel.:03915908182/Fax:071181155894/E-Mail:OC-DE@bosch.comFrauFilipchuk/Tel.:03032788205/Email:Valeriy.Filipchuk@de.bosch.comTermin:27.11.2019Techniker:S.ThormeierDEAS004WartungNGBVE/A,Sicurolh1,00NR350,00350,0019,0%99934Geschäftsführer/GeneralManagerAnschrift/AddressBankverbindung/BankInformationSteuemummer/TaxNumberThomasBuhren,GrazianoBeghelliLanterstraße34-D-46539DinslakenNameBayerHypo-undVereinsbank101/5701/1496HRB22348Tel.+4920649701-0Fax+4920649701-99BLZ30220190Kto364063709UST-ID/VAT-IDAmtsgerichtDuisburgkontakt@beghelli.de-www.beghelli.deIBANDE56302201900364063709DEI19\"062102BICHYVEDEMM414\f",
      "RechnungsanschriftRECHNUNGSNUMMER19008551UCDatum28/11/2019Seite:2310960RobertBoschGmbHKunden-Nr310960C/CGA-GAAPostfach1625¡Be.g.hellil39006MagedeburgDeutschlandI:)RASABeghelliPRÄZISAGmbH-Lanterstraße34-46539Dinslaken310960RobertBoschGmbHUmsatzsteuer-ID-Nr.C/CGA-GAARechnungsdatum28/11/2019Postfach1625Fälligam28/12/201939006MagedeburgZahlungsmittelAufRechnungDeutschlandZahlungsbedingung30TagenettoLieferbedingungEWAbWerkWährungEURAuftraggeberLieferanschrift310960RobertBoschGmbHRobertBoschGmbH--322974C/CGA-GAAC/AGA-AbladestelleBE108EGPostfach1625Hr.Filipchuk(C/AGA)39006MagedeburgBismarckstr.71Deutschland10627BerlinDeutschlandUmsatzsteuer-ID-Nr.ArtikclnrBezeichnungWarenklasseMengeEinzelpreisGesamtpreisMwStDEAS004WartungNGBVE/A,Sicurolh1,00NR350,00350,0019,0%99934DEAS004WartungNGBVE/A,Sicurolh1,00NR350,00350,0019,0%99934DEAS004WartungNGBVE/A,Sicurolh1,00NR350,00350,0019,0%99934DEAS004WartungNGBVE/A,Sicurolh1,00NR350,00350,0019,0%99934DEAS016WartungNZBVE/A3h1,00NR550,00550,0019,0%99931DEAS003WartungNZBVE/Alh1,00NR277,85277,8519,0%99930EORI:DE3147061DasLieferscheindatumentsprichtdemLeistungsdatumNettowarenwe2.672,85EURNettowarenwertMwSt.%MehrwertsteuerEUR2.672,8519,0%507,84Geschäftsführer/GeneralManagerAnschrift/AddressBankverbindung/BankInformationSteuemummer/TaxNumberThomasBühren,GrazianoBeghelliLanterstraße34-D-46539DinslakenNameBayerHypo-undVereinsbank101/5701/1496HRB22348Tel.+4920649701-0Fax+4920649701-99BLZ30220190Kto364063709UST-ID/VAT-IDAmtsgerichtDuisburgkontakt@beghelli..de-www..beghelli..deIBANDE56302201900364063709DEl19062102BICHYVEDEMM414\f",
      "-■RechnungsanschriftRECHNUNGSNUMMER19008551UCDatum28/11/2019Seite:3310960RobertBoschGmbHKunden-Nr310960C/CGA-GAAPostfach162539006MagedeburglBeghellilDeutschland-..BeghelliPRÄZISAGmbH-Lanterstraße34-46539DinslakenPRASA310960RobertBoschGmbHUmsatzsteuer-ID-Nr.C/CGA-GAARcchnungsdatum28/11/2019Postfach1625Fälligam28/12/201939006MagedeburgZahlungsmittelAufRechnungDeutschlandZahlungsbedingung30TagenettoLieferbedingungEWAbWerkWährungEURAuftraggeberLieferanschrift310960322974--RobertBoschGmbHRobertBoschGmbHC/CGA-GAAC/AGA-AbladestelleBE108EGPostfach1625Hr.Filipchuk(C/AGA)39006MagedeburgBismarckstr.71Deutschland10627BerlinDeutschlandUmsatzsteuer-ID-Nr.ArtikelnrBezeichnungWarenklasseMengeEinzelpreisGesamtpreisMwSt•Gesamtsumme3.180,69EURGeschäftsführer/GeneralManagerAnschrift/AddressBankverbindung/BankInformationSteuemummerThomasBuhren,GrazianoBeghelliLanterstraße34D-46539DinslakenNameBayerHypo-undVereinsbank/TaxNumber-101/5701/1496HRB22348Tel.+4920649701-0Fax+4920649701-99BLZ30220190Kto364063709UST-ID/VAT-IDAmtsgerichtDuisburgkontakt@beghelli.de-www.beghelli.deIBANDE56302201900364063709DE119062102BICHYVEDEMM414\f",
      "rIIIIIIIIIIIIIIII'1IKreditoren-WorkflowTrennblattAnlagenVersion1.0-PatchcodeI1\f",
      "\f",
      "\f",
      "\f",
      "\f",
      "\f",
      "\f",
      "\f",
      "\n"
     ]
    }
   ],
   "source": [
    "resource_manager = PDFResourceManager()\n",
    "fake_file_handle = io.StringIO()\n",
    "converter = TextConverter(resource_manager, fake_file_handle)\n",
    "page_interpreter = PDFPageInterpreter(resource_manager, converter)\n",
    "\n",
    "from pdfminer3.layout import LAParams\n",
    "converter = TextConverter(resource_manager, fake_file_handle, laparams=LAParams())\n",
    "\n",
    "with open(r'C:\\Users\\jagadesh\\Jupyter Projects\\OCR\\fwusecaseextractnamesfromtext/2.pdf', 'rb') as fh:\n",
    "\n",
    "    for page in PDFPage.get_pages(fh,\n",
    "                                  caching=True,\n",
    "                                  check_extractable=True):\n",
    "        page_interpreter.process_page(page)\n",
    "\n",
    "    text = fake_file_handle.getvalue()\n",
    "\n",
    "# close open handles\n",
    "converter.close()\n",
    "fake_file_handle.close()\n",
    "\n",
    "print(text)"
   ]
  },
  {
   "cell_type": "code",
   "execution_count": 20,
   "metadata": {},
   "outputs": [
    {
     "ename": "SyntaxError",
     "evalue": "invalid syntax (<ipython-input-20-fa57ef51b6c0>, line 1)",
     "output_type": "error",
     "traceback": [
      "\u001b[1;36m  File \u001b[1;32m\"<ipython-input-20-fa57ef51b6c0>\"\u001b[1;36m, line \u001b[1;32m1\u001b[0m\n\u001b[1;33m    text_file = open(\"Output.txt\",\"w\") as file\u001b[0m\n\u001b[1;37m                                        ^\u001b[0m\n\u001b[1;31mSyntaxError\u001b[0m\u001b[1;31m:\u001b[0m invalid syntax\n"
     ]
    }
   ],
   "source": [
    "text_file = open(\"Output.txt\",\"w\") as file"
   ]
  },
  {
   "cell_type": "code",
   "execution_count": 18,
   "metadata": {},
   "outputs": [
    {
     "ename": "SyntaxError",
     "evalue": "invalid syntax (<ipython-input-18-fbae5235375b>, line 1)",
     "output_type": "error",
     "traceback": [
      "\u001b[1;36m  File \u001b[1;32m\"<ipython-input-18-fbae5235375b>\"\u001b[1;36m, line \u001b[1;32m1\u001b[0m\n\u001b[1;33m    open'op1.txt',mode='w'\u001b[0m\n\u001b[1;37m                ^\u001b[0m\n\u001b[1;31mSyntaxError\u001b[0m\u001b[1;31m:\u001b[0m invalid syntax\n"
     ]
    }
   ],
   "source": []
  },
  {
   "cell_type": "code",
   "execution_count": 10,
   "metadata": {},
   "outputs": [
    {
     "ename": "UnicodeEncodeError",
     "evalue": "'charmap' codec can't encode character '\\u25a0' in position 3323: character maps to <undefined>",
     "output_type": "error",
     "traceback": [
      "\u001b[1;31m---------------------------------------------------------------------------\u001b[0m",
      "\u001b[1;31mUnicodeEncodeError\u001b[0m                        Traceback (most recent call last)",
      "\u001b[1;32m<ipython-input-10-e84d34cf1b7b>\u001b[0m in \u001b[0;36m<module>\u001b[1;34m\u001b[0m\n\u001b[0;32m      1\u001b[0m \u001b[1;32mwith\u001b[0m \u001b[0mopen\u001b[0m\u001b[1;33m(\u001b[0m\u001b[1;34m\"Output.txt\"\u001b[0m\u001b[1;33m,\u001b[0m \u001b[1;34m\"w\"\u001b[0m\u001b[1;33m)\u001b[0m \u001b[1;32mas\u001b[0m \u001b[0mtext_file\u001b[0m\u001b[1;33m:\u001b[0m\u001b[1;33m\u001b[0m\u001b[1;33m\u001b[0m\u001b[0m\n\u001b[1;32m----> 2\u001b[1;33m     \u001b[0mprint\u001b[0m\u001b[1;33m(\u001b[0m\u001b[0mtext\u001b[0m\u001b[1;33m,\u001b[0m\u001b[0mfile\u001b[0m\u001b[1;33m=\u001b[0m\u001b[0mtext_file\u001b[0m\u001b[1;33m)\u001b[0m\u001b[1;33m\u001b[0m\u001b[1;33m\u001b[0m\u001b[0m\n\u001b[0m\u001b[0;32m      3\u001b[0m \u001b[1;33m\u001b[0m\u001b[0m\n",
      "\u001b[1;32mC:\\LocalDiskD\\ProgrammingRequisites\\Anaconda\\lib\\encodings\\cp1252.py\u001b[0m in \u001b[0;36mencode\u001b[1;34m(self, input, final)\u001b[0m\n\u001b[0;32m     17\u001b[0m \u001b[1;32mclass\u001b[0m \u001b[0mIncrementalEncoder\u001b[0m\u001b[1;33m(\u001b[0m\u001b[0mcodecs\u001b[0m\u001b[1;33m.\u001b[0m\u001b[0mIncrementalEncoder\u001b[0m\u001b[1;33m)\u001b[0m\u001b[1;33m:\u001b[0m\u001b[1;33m\u001b[0m\u001b[1;33m\u001b[0m\u001b[0m\n\u001b[0;32m     18\u001b[0m     \u001b[1;32mdef\u001b[0m \u001b[0mencode\u001b[0m\u001b[1;33m(\u001b[0m\u001b[0mself\u001b[0m\u001b[1;33m,\u001b[0m \u001b[0minput\u001b[0m\u001b[1;33m,\u001b[0m \u001b[0mfinal\u001b[0m\u001b[1;33m=\u001b[0m\u001b[1;32mFalse\u001b[0m\u001b[1;33m)\u001b[0m\u001b[1;33m:\u001b[0m\u001b[1;33m\u001b[0m\u001b[1;33m\u001b[0m\u001b[0m\n\u001b[1;32m---> 19\u001b[1;33m         \u001b[1;32mreturn\u001b[0m \u001b[0mcodecs\u001b[0m\u001b[1;33m.\u001b[0m\u001b[0mcharmap_encode\u001b[0m\u001b[1;33m(\u001b[0m\u001b[0minput\u001b[0m\u001b[1;33m,\u001b[0m\u001b[0mself\u001b[0m\u001b[1;33m.\u001b[0m\u001b[0merrors\u001b[0m\u001b[1;33m,\u001b[0m\u001b[0mencoding_table\u001b[0m\u001b[1;33m)\u001b[0m\u001b[1;33m[\u001b[0m\u001b[1;36m0\u001b[0m\u001b[1;33m]\u001b[0m\u001b[1;33m\u001b[0m\u001b[1;33m\u001b[0m\u001b[0m\n\u001b[0m\u001b[0;32m     20\u001b[0m \u001b[1;33m\u001b[0m\u001b[0m\n\u001b[0;32m     21\u001b[0m \u001b[1;32mclass\u001b[0m \u001b[0mIncrementalDecoder\u001b[0m\u001b[1;33m(\u001b[0m\u001b[0mcodecs\u001b[0m\u001b[1;33m.\u001b[0m\u001b[0mIncrementalDecoder\u001b[0m\u001b[1;33m)\u001b[0m\u001b[1;33m:\u001b[0m\u001b[1;33m\u001b[0m\u001b[1;33m\u001b[0m\u001b[0m\n",
      "\u001b[1;31mUnicodeEncodeError\u001b[0m: 'charmap' codec can't encode character '\\u25a0' in position 3323: character maps to <undefined>"
     ]
    }
   ],
   "source": [
    "with open(\"Output.txt\", \"w\") as text_file:\n",
    "    print(text,file=text_file)\n",
    "    "
   ]
  },
  {
   "cell_type": "code",
   "execution_count": 11,
   "metadata": {},
   "outputs": [
    {
     "data": {
      "text/plain": [
       "str"
      ]
     },
     "execution_count": 11,
     "metadata": {},
     "output_type": "execute_result"
    }
   ],
   "source": [
    "type(text)"
   ]
  },
  {
   "cell_type": "code",
   "execution_count": null,
   "metadata": {},
   "outputs": [],
   "source": []
  }
 ],
 "metadata": {
  "kernelspec": {
   "display_name": "Python 3",
   "language": "python",
   "name": "python3"
  },
  "language_info": {
   "codemirror_mode": {
    "name": "ipython",
    "version": 3
   },
   "file_extension": ".py",
   "mimetype": "text/x-python",
   "name": "python",
   "nbconvert_exporter": "python",
   "pygments_lexer": "ipython3",
   "version": "3.7.3"
  }
 },
 "nbformat": 4,
 "nbformat_minor": 2
}
