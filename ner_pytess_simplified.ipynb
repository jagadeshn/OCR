{
 "cells": [
  {
   "cell_type": "code",
   "execution_count": 7,
   "metadata": {},
   "outputs": [],
   "source": [
    "from pdf2image import convert_from_path\n",
    "import pytesseract\n",
    "from PIL import Image\n",
    "import spacy\n",
    "from spacy import displacy\n",
    "from collections import Counter\n",
    "import en_core_web_sm\n",
    "import de_core_news_sm\n",
    "#spacy.load('de_core_news_sm')\n",
    "nlp_de = spacy.load('de_core_news_sm') #German\n",
    "nlp_en = en_core_web_sm.load() #English \n",
    "#image_to_string: pytesseract.pytesseract.tesseract_cmd = r'C:\\Users\\USER\\AppData\\Local\\Tesseract-OCR\\tesseract.exe'\n",
    "#pytesseract.pytesseract.tesseract_cmd = 'C:\\Program Files\\Tesseract-OCR\\tessdata'\n",
    "\n",
    "#pytesseract.pytesseract.tesseract_cmd = 'C:\\Program Files\\Tesseract-OCR\\tesseract.exe'  # your path may be different\n",
    "\n",
    "pytesseract.pytesseract.tesseract_cmd = r'C:\\Program Files\\Tesseract-OCR\\tesseract.exe'\n",
    "\n",
    "# Importing dictionary to a dataFrame\n",
    "import pandas as pd\n",
    "df = pd.read_csv(r'C:\\Users\\jagadesh\\Jupyter Projects\\OCR\\fwusecaseextractnamesfromtext\\ger.txt')\n"
   ]
  },
  {
   "cell_type": "code",
   "execution_count": 8,
   "metadata": {},
   "outputs": [],
   "source": [
    "pages = convert_from_path(r'C:\\Users\\jagadesh\\Jupyter Projects\\OCR\\fwusecaseextractnamesfromtext\\3.pdf', 500)\n",
    "\n",
    "text=''\n",
    "\n",
    "for page in pages:\n",
    "    text = text + (pytesseract.image_to_string(page))  "
   ]
  },
  {
   "cell_type": "code",
   "execution_count": 9,
   "metadata": {},
   "outputs": [],
   "source": [
    "doc=nlp_en(text)"
   ]
  },
  {
   "cell_type": "code",
   "execution_count": null,
   "metadata": {},
   "outputs": [],
   "source": [
    "# For checking\n",
    "# for X in doc.ents:\n",
    "#         print(X.text,X.label_)"
   ]
  },
  {
   "cell_type": "code",
   "execution_count": 10,
   "metadata": {},
   "outputs": [],
   "source": [
    "def WordSearch(arr, x):\n",
    "    for y in arr:\n",
    "        if x == y:\n",
    "            return False\n",
    "        \n",
    "    return True"
   ]
  },
  {
   "cell_type": "code",
   "execution_count": 11,
   "metadata": {},
   "outputs": [
    {
     "name": "stdout",
     "output_type": "stream",
     "text": [
      "Reutlingen\n",
      " PER\n",
      "Menge Einzelpreis PER\n",
      "Steinmiullerallee PER\n",
      "HRL-Rt-TM1 PER\n",
      "Tag Bemerkung PER\n",
      "nhininin PER\n"
     ]
    }
   ],
   "source": [
    "for X in doc.ents:\n",
    "     if X.label_=='PERSON' and not('Bosch' in X.text) and WordSearch(df.AA,X.text):\n",
    "#         i=i+1\n",
    "#         print(i,\"-\",X.text)\n",
    "        doc2=nlp_de(X.text)\n",
    "        for Y in doc2.ents:\n",
    "             if Y.label_=='PER':\n",
    "                print(Y.text , Y.label_)\n",
    "                "
   ]
  },
  {
   "cell_type": "code",
   "execution_count": 14,
   "metadata": {},
   "outputs": [
    {
     "name": "stdout",
     "output_type": "stream",
     "text": [
      "FERCHAU\n",
      "\n",
      " PER\n",
      "Postfach LOC\n",
      "Belegnummer LOC\n",
      "HRS21-DE PER\n",
      "DE811128135 MISC\n",
      "Kontraktnr ORG\n",
      "Magdeburg 40072172\n",
      " LOC\n",
      "Reutlingen\n",
      "Fon MISC\n",
      "AU-Dambacher MISC\n",
      "EUR\n",
      " MISC\n",
      "Aufwand LOC\n",
      "EUR MISC\n",
      "EUR 627,03\n",
      " MISC\n",
      "EUR MISC\n",
      "EUR MISC\n",
      "info@ferchau.com\n",
      " MISC\n",
      "IBAN ORG\n",
      "DE16 MISC\n",
      "USt-IdNr MISC\n",
      "DE 122 MISC\n",
      "DE11 MISC\n",
      "01.09.2019 bis 30.09.2019 MISC\n",
      "BOSCH\n",
      "\n",
      " MISC\n",
      "Patrick Dambacher\n",
      "\n",
      " PER\n",
      "_ LOC\n",
      "Pt YT MISC\n",
      "n\n",
      "\n",
      " MISC\n",
      "| MISC\n",
      "ANU |80\n",
      "\n",
      " MISC\n",
      "| MISC\n",
      "| oO\n",
      "\n",
      " MISC\n",
      "| MISC\n",
      "ANU |800\n",
      " MISC\n",
      "ANU { MISC\n",
      "ANU MISC\n",
      "oOo\n",
      "\n",
      " MISC\n",
      "N TO\n",
      " MISC\n",
      "| MISC\n",
      "| MISC\n",
      "ANU\n",
      " MISC\n",
      "ANU\n",
      " PER\n",
      "ANU\n",
      "\n",
      " MISC\n",
      "O\n",
      " MISC\n",
      "BOSCH\n",
      "\n",
      " MISC\n",
      "Patrick Dambacher PER\n",
      "_ MISC\n",
      "| MISC\n",
      "ANU MISC\n",
      "einvoice_49904990@de.bosch.com\n",
      "\n",
      " MISC\n",
      "FERCHAU GmbH ORG\n",
      "FERCHAU ORG\n",
      "GriiBen\n",
      "FERCHAU GmbH ORG\n"
     ]
    }
   ],
   "source": [
    "# For checking\n",
    "doc2=nlp_de(text)\n",
    "for X in doc2.ents:\n",
    "        print(X.text,X.label_)"
   ]
  },
  {
   "cell_type": "code",
   "execution_count": null,
   "metadata": {},
   "outputs": [],
   "source": []
  }
 ],
 "metadata": {
  "kernelspec": {
   "display_name": "Python 3",
   "language": "python",
   "name": "python3"
  },
  "language_info": {
   "codemirror_mode": {
    "name": "ipython",
    "version": 3
   },
   "file_extension": ".py",
   "mimetype": "text/x-python",
   "name": "python",
   "nbconvert_exporter": "python",
   "pygments_lexer": "ipython3",
   "version": "3.7.3"
  }
 },
 "nbformat": 4,
 "nbformat_minor": 2
}
